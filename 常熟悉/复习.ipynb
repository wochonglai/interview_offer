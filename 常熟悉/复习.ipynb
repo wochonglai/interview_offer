{
 "cells": [
  {
   "cell_type": "code",
   "execution_count": null,
   "metadata": {},
   "outputs": [],
   "source": [
    "# 1、推导式与函数式\n",
    "ages = [-1, 10, 20]\n",
    "sum([age if age >=0 else 0 for age in ages ])\n",
    "sum(age if age >=0 else 0 for age in ages)  # 生成器\n",
    "# 函数式: map, filter, reduce等\n",
    "sum(map(lambda age: age if age >=0 else 0, ages))"
   ]
  },
  {
   "cell_type": "markdown",
   "metadata": {},
   "source": [
    "算法"
   ]
  },
  {
   "cell_type": "code",
   "execution_count": 16,
   "metadata": {
    "scrolled": true
   },
   "outputs": [
    {
     "name": "stdout",
     "output_type": "stream",
     "text": [
      "[4, 3, 1]\n",
      "[(1, 'a'), (3, 'c'), (4, 'd')]\n"
     ]
    }
   ],
   "source": [
    "# 排序\n",
    "peoples = [\n",
    "    {\"age\": 1, \"name\": \"kehan\"},\n",
    "    {\"age\": 24, \"name\": \"lwy\"},\n",
    "    {\"age\": 25, \"name\": \"skycrab\"},\n",
    "]\n",
    "# age从小到大,\n",
    "sorted(peoples, key=lambda p:p[\"age\"])\n",
    "# 从大到小\n",
    "import operator\n",
    "sorted(peoples, key=operator.itemgetter(\"age\"),reverse=True)\n",
    "'''\n",
    "operator.attrgetter     # 属性\n",
    "operator.itemgetter     #元素\n",
    "operator.methodcaller   #方法\n",
    "'''\n",
    "\n",
    "d1={1:'a',3:'c',4:'d'}\n",
    "# 按字典的键排序\n",
    "print(sorted(d1,reverse=True))\n",
    "sorted(d1.keys())\n",
    "# 按字典值排序\n",
    "print(sorted(d1.items(), key=lambda x:x[1]))"
   ]
  },
  {
   "cell_type": "markdown",
   "metadata": {},
   "source": [
    "反射(自省)\n",
    "getattr, setattr, hasattr, dir\n",
    "\n",
    "__dict__, __slots__\n",
    "\n",
    "callable, isinstance\n",
    "\n",
    "traceback\n",
    "\n",
    "inspect\n",
    "\n",
    "好处是什么？？？\n",
    "\n",
    "orm"
   ]
  },
  {
   "cell_type": "code",
   "execution_count": 22,
   "metadata": {},
   "outputs": [],
   "source": [
    "# 装饰器\n",
    "def XXX(func):\n",
    "    @wraps(func)\n",
    "    def wrapper(*args, **kwargs):\n",
    "        # before hook\n",
    "        return func(*args, **kwargs)\n",
    "        # after hook\n",
    "    return wrapper\n",
    "\n",
    "\n",
    "def super_required(view_func):\n",
    "    \"\"\"超级用户控制\"\"\"\n",
    "    @wraps(view_func)\n",
    "    def decorator(request, *args, **kwargs):\n",
    "        if request.user.is_authenticated() and request.user.is_superuser:\n",
    "            return view_func(request,*args,**kwargs)\n",
    "        else:\n",
    "            return HttpResponseRedirect(\"/login/?next= {0}\".format(request.path))\n",
    "    return decorator\n",
    "                                        \n",
    "# 属性拦截与装饰器结合\n",
    "def log(level):\n",
    "    \"\"\"记录日志\"\"\"\n",
    "    assert level in (\"debug\", \"info\", \"warn\", \"error\")\n",
    "    def decorator(func):\n",
    "        @wraps(func)\n",
    "        def wrapper(*args, **kwargs):\n",
    "            start = time.time()\n",
    "            result = func(*args, **kwargs)\n",
    "            write = getattr(logger, level)\n",
    "            write(\"sql: %s\\nrun time: %s seconds\",\n",
    "                args, time.time()-start)\n",
    "            return result\n",
    "        return wrapper\n",
    "    return decorator"
   ]
  },
  {
   "cell_type": "code",
   "execution_count": 23,
   "metadata": {},
   "outputs": [],
   "source": [
    "# 上下文管理器 with\n",
    "class cd(object):\n",
    "    def __init__(self, path):\n",
    "        self.src = os.getcwd()\n",
    "        self.dest = path\n",
    "\n",
    "    def __enter__(self):\n",
    "        os.chdir(self.dest)\n",
    "\n",
    "    def __exit__(self, exc_type, exc_val, exc_tb):\n",
    "        \"\"\"返回True忽略异常\"\"\"\n",
    "        os.chdir(self.src)"
   ]
  },
  {
   "cell_type": "code",
   "execution_count": 1,
   "metadata": {},
   "outputs": [
    {
     "ename": "SyntaxError",
     "evalue": "invalid syntax (<ipython-input-1-6107aae69357>, line 15)",
     "output_type": "error",
     "traceback": [
      "\u001b[1;36m  File \u001b[1;32m\"<ipython-input-1-6107aae69357>\"\u001b[1;36m, line \u001b[1;32m15\u001b[0m\n\u001b[1;33m    print time.time()\u001b[0m\n\u001b[1;37m             ^\u001b[0m\n\u001b[1;31mSyntaxError\u001b[0m\u001b[1;31m:\u001b[0m invalid syntax\n"
     ]
    }
   ],
   "source": [
    "# gevent  借助gevent让flask(django)拥有实时推送能力(对比tornado)\n",
    "from gevent.server import StreamServer\n",
    "\n",
    "def handle(socket, address):\n",
    "    socket.send(\"Hello from a telnet!\\n\")\n",
    "    for i in range(5):\n",
    "        socket.send(str(i) + '\\n')\n",
    "    socket.close()\n",
    "\n",
    "server = StreamServer(('127.0.0.1', 5000), handle)\n",
    "server.serve_forever()\n",
    "\n",
    "# 定时任务\n",
    "def f():\n",
    "    print time.time()\n",
    "    print 'eeeee'\n",
    "from gevent.core import loop\n",
    "l = loop()\n",
    "timer = l.timer(2,3) #2秒后启动，3秒后再次启动\n",
    "print time.time()\n",
    "timer.start(f)\n",
    "l.run()"
   ]
  },
  {
   "cell_type": "code",
   "execution_count": 7,
   "metadata": {},
   "outputs": [],
   "source": [
    "def swap(data, root, last):\n",
    "    data[root], data[last] = data[last], data[root]\n",
    "\n",
    "#调整父节点 与孩子大小， 制作大顶堆\n",
    "def adjust_heap(data, par_node, high):\n",
    "\n",
    "    new_par_node = par_node\n",
    "    j = 2*par_node +1   #取根节点的左孩子， 如果只有一个孩子 high就是左孩子，如果有两个孩子 high 就是右孩子\n",
    "\n",
    "    while j <= high: #如果 j = high 说明没有右孩子，high就是左孩子\n",
    "        if j < high and data[j] < data[j+1]: #如果这儿不判断 j < high 可能超出索引\n",
    "            # 一个根节点下，如果有两个孩子，将 j  指向值大的那个孩子\n",
    "            j += 1\n",
    "        if data[j] > data[new_par_node]: #如果子节点值大于父节点，就互相交换\n",
    "            data[new_par_node], data[j] = data[j], data[new_par_node]\n",
    "            new_par_node = j #将当前节点，作为父节点，查找他的子树\n",
    "            j = j * 2 + 1\n",
    "\n",
    "        else:\n",
    "            # 因为调整是从上到下，所以下面的所有子树肯定是排序好了的，\n",
    "            #如果调整的父节点依然比下面最大的子节点大，就直接打断循环，堆已经调整好了的\n",
    "            break\n",
    "\n",
    "\n",
    "# 索引计算: 0 -->1 --->....\n",
    "#    父节点 i   左子节点：2i +1  右子节点：2i +2  注意：当用长度表示最后一个叶子节点时 记得 -1\n",
    "#    即 2i + 1 = length - 1 或者 2i + 2 = length - 1\n",
    "#    2i+1 + 1 = length 或 2i+2 + 1 = length\n",
    "#    2(i+1)=length 或 2(i+1）+1 = length\n",
    "#    设j = i+1  则左子节点(偶数)：2j = length 和 右子节点(基数)：2j+1 = length\n",
    "#    2j//2 = j == (2j+1)//2 这两个的整除是一样的，所以使用length//2 = j 然后 i + 1 = j\n",
    "#    i = j-1  = length//2 -1  #注意左子节点:2i+1 //2 =i  而右子节点：(2i+2)//2 = i+1 \n",
    "\n",
    "# 从第一个非叶子节点(即最后一个父节点)开始，即 list_.length//2 -1（len(list_)//2 - 1）\n",
    "\n",
    "# 开始循环到 root 索引为：0 的第一个根节点， 将所有的根-叶子 调整好，成为一个 大顶堆\n",
    "def heap_sort(lst):\n",
    "    \"\"\"\n",
    "    根据列表长度，找到最后一个非叶子节点，开始循化到 root 根节点，制作 大顶堆\n",
    "    :param lst: 将列表传入\n",
    "    :return:\n",
    "    \"\"\"\n",
    "    length = len(lst)\n",
    "    last = length -1  #最后一个元素的 索引\n",
    "    last_par_node = length//2 -1\n",
    "\n",
    "    while last_par_node >= 0:\n",
    "\n",
    "        adjust_heap(lst, last_par_node, length-1)\n",
    "        last_par_node -= 1  #每调整好一个节点，从后往前移动一个节点\n",
    "\n",
    "    # return lst\n",
    "\n",
    "    while last > 0:\n",
    "        #swap(lst, 0, last)\n",
    "        lst[0], lst[last] = lst[last],lst[0]\n",
    "        # 调整堆让 adjust 处理，最后已经排好序的数，就不处理了\n",
    "        adjust_heap(lst, 0, last-1)\n",
    "        last -= 1\n",
    "\n",
    "    return lst #将列表返回\n",
    "\n",
    "import time,random\n",
    "def sift_down(arr, node, end):\n",
    "    root = node\n",
    "    #print(root,2*root+1,end)\n",
    "    while True:\n",
    "        # 从root开始对最大堆调整\n",
    "        child = 2 * root +1  #left child\n",
    "        if child  > end:\n",
    "            #print('break',)\n",
    "            break\n",
    "        #print(\"v:\",root,arr[root],child,arr[child])\n",
    "        #print(arr)\n",
    "        # 找出两个child中交大的一个\n",
    "        if child + 1 <= end and arr[child] < arr[child + 1]: #如果左边小于右边\n",
    "            child += 1 #设置右边为大\n",
    "        if arr[root] < arr[child]:\n",
    "            # 最大堆小于较大的child, 交换顺序\n",
    "            tmp = arr[root]\n",
    "            arr[root] = arr[child]\n",
    "            arr[child]= tmp\n",
    "            # 正在调整的节点设置为root\n",
    "            #print(\"less1:\", arr[root],arr[child],root,child)\n",
    "            root = child #\n",
    "            #[3, 4, 7, 8, 9, 11, 13, 15, 16, 21, 22, 29]\n",
    "            #print(\"less2:\", arr[root],arr[child],root,child)\n",
    "        else:\n",
    "            # 无需调整的时候, 退出\n",
    "            break\n",
    "    #print(arr)\n",
    "    #print('-------------')\n",
    "\n",
    "def heap_sort2(arr):\n",
    "    # 从最后一个有子节点的孩子还是调整最大堆\n",
    "    first = len(arr) // 2 -1\n",
    "    for i in range(first, -1, -1):\n",
    "        sift_down(arr, i, len(arr) - 1)\n",
    "    #[29, 22, 16, 9, 15, 21, 3, 13, 8, 7, 4, 11]\n",
    "    # print('--------end---',arr)\n",
    "    # 将最大的放到堆的最后一个, 堆-1, 继续调整排序\n",
    "    for end in range(len(arr) -1, 0, -1):\n",
    "        arr[0], arr[end] = arr[end], arr[0]\n",
    "        sift_down(arr, 0, end - 1)\n",
    "        #print(arr)\n",
    "\n",
    "if __name__ == '__main__':\n",
    "    list_ = list(range(10000,1,-1))\n",
    "    random.shuffle(list_)\n",
    "    heap_sort2(list_)\n",
    "    #print(list_)\n",
    "\n",
    "\n",
    "#最后结果为：\n",
    "# [3, 4, 7, 8, 9, 11, 13, 15, 16, 21, 22, 29]"
   ]
  },
  {
   "cell_type": "code",
   "execution_count": 2,
   "metadata": {},
   "outputs": [
    {
     "name": "stdout",
     "output_type": "stream",
     "text": [
      "1 线程1\n",
      "6 线程6\n",
      "4 线程4\n",
      "0 82 线程2\n",
      "7 线程7\n",
      "13 10 线程10\n",
      " 线程8\n",
      "线程05 线程5\n",
      "线程1314 线程14\n",
      "18 线程18\n",
      "\n",
      "12 线程12\n",
      "3\n",
      "9 线程9\n",
      " 线程3\n",
      "17 线程17\n",
      "19 线程19\n",
      "16 线程16\n",
      "11 线程11\n",
      "15 线程15\n"
     ]
    }
   ],
   "source": [
    "# 上下文管理，threading.local对象，用于为每个线程开辟一块空间来保有他独特的值\n",
    "import threading\n",
    " \n",
    "local_values = threading.local()\n",
    " \n",
    " \n",
    "def func(num):\n",
    "    local_values.name = num\n",
    "    import time\n",
    "    time.sleep(1)\n",
    "    print(local_values.name, threading.current_thread().name)\n",
    " \n",
    " \n",
    "for i in range(20):\n",
    "    th = threading.Thread(target=func, args=(i,), name='线程%s' % i)\n",
    "    th.start()"
   ]
  },
  {
   "cell_type": "code",
   "execution_count": 4,
   "metadata": {},
   "outputs": [],
   "source": [
    "# 上下文管理，threading.local 协程\n",
    "import threading\n",
    "try:\n",
    "    from greenlet import getcurrent as get_ident # 协程\n",
    "except ImportError:\n",
    "    try:\n",
    "        from thread import get_ident\n",
    "    except ImportError:\n",
    "        from _thread import get_ident\n",
    "class UsualLocal(object):\n",
    "    def __init__(self):\n",
    "        self.storage={}\n",
    "        self.get_ident=get_ident\n",
    "    \n",
    "    def set(self,k,v):\n",
    "        ident=self.get_ident()\n",
    "        origin=self.storage.get(ident)\n",
    "        if not origin:\n",
    "            origin={k:v}\n",
    "        else:\n",
    "            origin[k]=v\n",
    "        self.storage[ident]=origin\n",
    "    \n",
    "    def get(self,k):\n",
    "        ident=self.get_ident()\n",
    "        origin=self.storage.get(ident)\n",
    "        if not origin:\n",
    "            return None\n",
    "        return origin.get(k,None)\n",
    "\n",
    "class NewLocal(object):\n",
    "    def __init__(self):\n",
    "        #self.storage={}\n",
    "        object.__setattr__(self,'storage',{})     # 对象.XX 会触发 __setattr__方法，object.__setattr__不会循环触发\n",
    "        #self.get_ident=get_ident\n",
    "        object.__setattr__(self,'get_ident',get_ident)\n",
    "    \n",
    "    def __setattr__(self,k,v):\n",
    "        ident=self.get_ident()\n",
    "        origin=self.storage.get(ident)\n",
    "        if not origin:\n",
    "            origin={k:v}\n",
    "        else:\n",
    "            origin[k]=v\n",
    "        self.storage[ident]=origin\n",
    "    \n",
    "    def __getattr__(self,k):\n",
    "        try:\n",
    "            return self.storage[self.get_ident()][k]\n",
    "        except KeyError:\n",
    "            raise AttributerError(k)"
   ]
  },
  {
   "cell_type": "code",
   "execution_count": 7,
   "metadata": {},
   "outputs": [
    {
     "name": "stdout",
     "output_type": "stream",
     "text": [
      "1 2 3\n"
     ]
    }
   ],
   "source": [
    "# 偏函数 functools.partial\n",
    "import functools\n",
    "def func(a1,a2,a3):\n",
    "    print(a1,a2,a3)\n",
    "\n",
    "new_func=functools.partial(func,1,2)\n",
    "new_func(3)"
   ]
  },
  {
   "cell_type": "code",
   "execution_count": null,
   "metadata": {},
   "outputs": [],
   "source": [
    "# 数据库连接池\n",
    "import pymysql\n",
    "from DBUtils.PooledDB import PooledDB, SharedDBConnection\n",
    "POOL = PooledDB(\n",
    "    creator=pymysql,  # 使用链接数据库的模块\n",
    "    maxconnections=6,  # 连接池允许的最大连接数，0和None表示不限制连接数\n",
    "    mincached=2,  # 初始化时，链接池中至少创建的空闲的链接，0表示不创建\n",
    "    maxcached=5,  # 链接池中最多闲置的链接，0和None不限制\n",
    "    maxshared=3,  # 链接池中最多共享的链接数量，0和None表示全部共享。PS: 无用，因为pymysql和MySQLdb等模块的 threadsafety都为1，所有值无论设置为多少，_maxcached永远为0，所以永远是所有链接都共享。\n",
    "    blocking=True,  # 连接池中如果没有可用连接后，是否阻塞等待。True，等待；False，不等待然后报错\n",
    "    maxusage=None,  # 一个链接最多被重复使用的次数，None表示无限制\n",
    "    setsession=[],  # 开始会话前执行的命令列表。如：[\"set datestyle to ...\", \"set time zone ...\"]\n",
    "    ping=0,\n",
    "    # ping MySQL服务端，检查是否服务可用。# 如：0 = None = never, 1 = default = whenever it is requested, 2 = when a cursor is created, 4 = when a query is executed, 7 = always\n",
    "    host='127.0.0.1',\n",
    "    port=3306,\n",
    "    user='root',\n",
    "    password='123',\n",
    "    database='pooldb',\n",
    "    charset='utf8'\n",
    ")\n",
    "\n",
    "class SQLHelper(object):\n",
    "    \n",
    "    @staticmethod          #静态方法，使用时不需要实例化对象\n",
    "    def fetch_one(self,sql,args):\n",
    "        conn=Pool.connection()\n",
    "        cursor=conn.cursor()\n",
    "        cursor.execute(sql,args)\n",
    "        result=cursor.fetchone()\n",
    "        conn.close()\n",
    "        return result\n",
    "    \n",
    "    @staticmethod          #静态方法，使用时不需要实例化对象\n",
    "    def fetch_all(self,sql,args):\n",
    "        conn=Pool.connection()\n",
    "        cursor=conn.cursor()\n",
    "        cursor.execute(sql,args)\n",
    "        result=cursor.fetchall()\n",
    "        conn.close()\n",
    "        return result"
   ]
  },
  {
   "cell_type": "code",
   "execution_count": 5,
   "metadata": {},
   "outputs": [
    {
     "name": "stdout",
     "output_type": "stream",
     "text": [
      "Mymeta.__new__ Mymeta\n",
      "----Mymeta.__init__ Foo {'__module__': '__main__', '__qualname__': 'Foo', 'yaml_tag': '!Foo', '__init__': <function Foo.__init__ at 0x000002C8AAFF12F0>, '__new__': <function Foo.__new__ at 0x000002C8AAFF1378>} !Foo\n"
     ]
    }
   ],
   "source": [
    "class Mymeta(type):\n",
    "    def __init__(self,name,bases,dic):\n",
    "        super().__init__(name,bases,dic)\n",
    "        # 2\n",
    "        print('----Mymeta.__init__',self.__name__,dic,self.yaml_tag)\n",
    "    \n",
    "    def __new__(cls,*args,**kwargs):\n",
    "        # 1\n",
    "        print('Mymeta.__new__',cls.__name__)\n",
    "        return type.__new__(cls,*args,**kwargs)\n",
    "    \n",
    "    def __call__(cls,*args,**kwargs):\n",
    "        print('---Mymeta.__call__')\n",
    "        obj=cls.__new__(cls)\n",
    "        cls.__init__(cls,*args,**kwargs)\n",
    "        return obj\n",
    "    \n",
    "class Foo(metaclass=Mymeta):\n",
    "    yaml_tag = '!Foo'\n",
    "    def __init__(self, name):\n",
    "        print('Foo.__init__')\n",
    "        self.name = name\n",
    "    \n",
    "    def __new__(cls, *args, **kwargs):\n",
    "        print('Foo.__new__')\n",
    "        return object.__new__(cls)"
   ]
  },
  {
   "cell_type": "code",
   "execution_count": 6,
   "metadata": {},
   "outputs": [
    {
     "name": "stdout",
     "output_type": "stream",
     "text": [
      "---Mymeta.__call__\n",
      "Foo.__new__\n",
      "Foo.__init__\n"
     ]
    }
   ],
   "source": [
    "foo = Foo('foo')"
   ]
  },
  {
   "cell_type": "markdown",
   "metadata": {},
   "source": [
    "从上面的运行结果可以发现在定义 class Foo() 定义时，会依次调用 MyMeta 的 __new__ 和 __init__ 方法构建 Foo 类，然后在调用 foo = Foo() 创建类的实例对象时，才会调用 MyMeta 的 __call__ 方法来调用 Foo 类的 __new__ 和 __init__ 方法。\n",
    "\n",
    "把上面的例子运行完之后就会明白很多了，正常情况下我们在父类中是不能对子类的属性进行操作，但是元类可以。换种方式理解：元类、装饰器、类装饰器都可以归为元编程。"
   ]
  },
  {
   "cell_type": "code",
   "execution_count": 1,
   "metadata": {},
   "outputs": [
    {
     "data": {
      "text/plain": [
       "'0b1101000'"
      ]
     },
     "execution_count": 1,
     "metadata": {},
     "output_type": "execute_result"
    }
   ],
   "source": [
    "bin(ord('h'))"
   ]
  },
  {
   "cell_type": "code",
   "execution_count": null,
   "metadata": {},
   "outputs": [],
   "source": []
  }
 ],
 "metadata": {
  "kernelspec": {
   "display_name": "Python 3",
   "language": "python",
   "name": "python3"
  },
  "language_info": {
   "codemirror_mode": {
    "name": "ipython",
    "version": 3
   },
   "file_extension": ".py",
   "mimetype": "text/x-python",
   "name": "python",
   "nbconvert_exporter": "python",
   "pygments_lexer": "ipython3",
   "version": "3.6.4"
  }
 },
 "nbformat": 4,
 "nbformat_minor": 2
}
